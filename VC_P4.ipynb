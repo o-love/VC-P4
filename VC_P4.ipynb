{
 "cells": [
  {
   "cell_type": "markdown",
   "metadata": {},
   "source": [
    "Detección de caras con webcam"
   ]
  },
  {
   "cell_type": "code",
   "execution_count": 1,
   "metadata": {},
   "outputs": [],
   "source": [
    "import cv2\n",
    "import time\n",
    "import FaceNormalizationUtils as faceutils\n",
    "# My face detectors interface\n",
    "import FaceDetectors"
   ]
  },
  {
   "cell_type": "markdown",
   "metadata": {},
   "source": [
    "En el bucle de procesamiento, las teclas 'd' y 'e' `permiten respectivamenet cambiar de modelo de detección de caras, y en su caso de máscara de detección del rostro.\n",
    "\n",
    "La ejecución de la siguiente celda produce error al no disponer de los archivos shape_predictor_5_face_landmarks.dat y shape_predictor_68_face_landmarks.dat que por su tamaño no se incluyeron en el repositorio. Pueden descargarse desde el enlace proporcionado en el campus virtual (opción aconsejada), o\n",
    "desde el [repositorio de archivos de dlib](http://dlib.net/files/).\n",
    "\n"
   ]
  },
  {
   "cell_type": "code",
   "execution_count": 11,
   "metadata": {},
   "outputs": [
    {
     "name": "stdout",
     "output_type": "stream",
     "text": [
      "Camera 0\n"
     ]
    },
    {
     "ename": "ValueError",
     "evalue": "could not broadcast input array from shape (6,60,4) into shape (6,60,3)",
     "output_type": "error",
     "traceback": [
      "\u001b[0;31m---------------------------------------------------------------------------\u001b[0m",
      "\u001b[0;31mValueError\u001b[0m                                Traceback (most recent call last)",
      "\u001b[1;32m/Users/olove/Programming/Python/OpenCV/VC - ULPGC/P4/VC_P4.ipynb Cell 4\u001b[0m line \u001b[0;36m5\n\u001b[1;32m     <a href='vscode-notebook-cell:/Users/olove/Programming/Python/OpenCV/VC%20-%20ULPGC/P4/VC_P4.ipynb#W3sZmlsZQ%3D%3D?line=55'>56</a>\u001b[0m         x_offset \u001b[39m=\u001b[39m  (shape[\u001b[39m31\u001b[39m][\u001b[39m0\u001b[39m] \u001b[39m+\u001b[39mshape[\u001b[39m2\u001b[39m][\u001b[39m0\u001b[39m]) \u001b[39m/\u001b[39m\u001b[39m/\u001b[39m\u001b[39m2\u001b[39m\n\u001b[1;32m     <a href='vscode-notebook-cell:/Users/olove/Programming/Python/OpenCV/VC%20-%20ULPGC/P4/VC_P4.ipynb#W3sZmlsZQ%3D%3D?line=56'>57</a>\u001b[0m         y_offset \u001b[39m=\u001b[39m shape[\u001b[39m31\u001b[39m][\u001b[39m1\u001b[39m]\n\u001b[0;32m---> <a href='vscode-notebook-cell:/Users/olove/Programming/Python/OpenCV/VC%20-%20ULPGC/P4/VC_P4.ipynb#W3sZmlsZQ%3D%3D?line=58'>59</a>\u001b[0m         frame[y_offset:y_offset\u001b[39m+\u001b[39madjusted_beard\u001b[39m.\u001b[39mshape[\u001b[39m0\u001b[39m], x_offset:x_offset\u001b[39m+\u001b[39madjusted_beard\u001b[39m.\u001b[39mshape[\u001b[39m1\u001b[39m]] \u001b[39m=\u001b[39m adjusted_beard\n\u001b[1;32m     <a href='vscode-notebook-cell:/Users/olove/Programming/Python/OpenCV/VC%20-%20ULPGC/P4/VC_P4.ipynb#W3sZmlsZQ%3D%3D?line=60'>61</a>\u001b[0m cv2\u001b[39m.\u001b[39mimshow(\u001b[39m'\u001b[39m\u001b[39mCam\u001b[39m\u001b[39m'\u001b[39m, frame)\n\u001b[1;32m     <a href='vscode-notebook-cell:/Users/olove/Programming/Python/OpenCV/VC%20-%20ULPGC/P4/VC_P4.ipynb#W3sZmlsZQ%3D%3D?line=62'>63</a>\u001b[0m \u001b[39m# Esc to finish\u001b[39;00m\n",
      "\u001b[0;31mValueError\u001b[0m: could not broadcast input array from shape (6,60,4) into shape (6,60,3)"
     ]
    }
   ],
   "source": [
    "normalizatorHS = faceutils.Normalization()\n",
    "\n",
    "beard_img = cv2.imread('beard.png')\n",
    "\n",
    "# Face detectors interface\n",
    "FDet = FaceDetectors.FaceDetector()\n",
    "\n",
    "# Fonts\n",
    "font = cv2.FONT_HERSHEY_SIMPLEX\n",
    "\n",
    "# Webcam connection\n",
    "cap = cv2.VideoCapture(0)\n",
    "# Check for other cameras\n",
    "if not cap.isOpened():\n",
    "    cap = cv2.VideoCapture(1)\n",
    "    if not cap.isOpened():\n",
    "        cap = cv2.VideoCapture(0)\n",
    "        if not cap.isOpened():\n",
    "            print('Camera error')\n",
    "            exit(0)\n",
    "        else:\n",
    "            print('Camera 0')\n",
    "    else:\n",
    "        print('Camera 1')\n",
    "else:\n",
    "    print('Camera 0')\n",
    "\n",
    "    # Face detection and eye model setup\n",
    "imodoF = 2\n",
    "imodoE = 1\n",
    "\n",
    "debug = 0\n",
    "\n",
    "#Set camera resolution\n",
    "cap.set(3,640);\n",
    "cap.set(4,480);\n",
    "\n",
    "while True:\n",
    "    # Get frame\n",
    "    t = time.time()\n",
    "    ret, frame = cap.read()\n",
    "    # For HS normalization\n",
    "    B, G, R = cv2.split(frame)\n",
    "\n",
    "    # Search face with a specific setup for face and eye detection\n",
    "    values = FDet.SingleFaceEyesDetection(frame, FDet.FaceDetectors[imodoF], FDet.EyeDetectors[imodoE])\n",
    "    if values is not None:\n",
    "        face, eyes, shape = values\n",
    "\n",
    "        if len(shape) > 0:\n",
    "            beard_width = shape[12][0] - shape[4][0]\n",
    "            beard_height = shape[48][1] - shape[33][1]\n",
    "\n",
    "            adjusted_beard = cv2.resize(beard_img, (beard_width, beard_height))\n",
    "\n",
    "            x_offset =  (shape[31][0] +shape[2][0]) //2\n",
    "            y_offset = shape[31][1]\n",
    "\n",
    "            frame[y_offset:y_offset+adjusted_beard.shape[0], x_offset:x_offset+adjusted_beard.shape[1]] = adjusted_beard\n",
    "\n",
    "    cv2.imshow('Cam', frame)\n",
    "    \n",
    "    # Esc to finish\n",
    "    tec = cv2.waitKey(40)\n",
    "    if tec & tec == 27:  # Esc\n",
    "        break\n",
    "\n",
    "# Close windoews and release camera\n",
    "cap.release()\n",
    "cv2.destroyAllWindows()"
   ]
  }
 ],
 "metadata": {
  "kernelspec": {
   "display_name": "Python 3.7.3 ('FACES')",
   "language": "python",
   "name": "python3"
  },
  "language_info": {
   "codemirror_mode": {
    "name": "ipython",
    "version": 3
   },
   "file_extension": ".py",
   "mimetype": "text/x-python",
   "name": "python",
   "nbconvert_exporter": "python",
   "pygments_lexer": "ipython3",
   "version": "3.11.5"
  },
  "vscode": {
   "interpreter": {
    "hash": "ea3a1ee99ce326e593ddb52cd278556d527fcb6552c40e2a47b1efb9d0183637"
   }
  }
 },
 "nbformat": 4,
 "nbformat_minor": 2
}
