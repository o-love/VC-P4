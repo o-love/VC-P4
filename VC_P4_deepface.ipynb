{
 "cells": [
  {
   "cell_type": "markdown",
   "metadata": {},
   "source": [
    "Detección de caras con webcam"
   ]
  },
  {
   "cell_type": "code",
   "execution_count": 6,
   "metadata": {},
   "outputs": [],
   "source": [
    "import cv2\n",
    "import time\n",
    "import FaceDetectors\n"
   ]
  },
  {
   "cell_type": "markdown",
   "metadata": {},
   "source": [
    "Deepface\n",
    "\n",
    "Deepface crea directorios para descargar los modelos, cuidado si tienes el disco bastante lleno. Es posible configurar la ruta, en mi caso uso  E:\\RUNNERS_code\\code\\DeepFace, tras definir la ruta a través de la variable de entorno DEEPFACE_HOME\n",
    "\n",
    "pip install retina-face o pip install deepface"
   ]
  },
  {
   "cell_type": "code",
   "execution_count": 7,
   "metadata": {},
   "outputs": [
    {
     "name": "stdout",
     "output_type": "stream",
     "text": [
      "Camera 0\n"
     ]
    },
    {
     "ename": "NameError",
     "evalue": "name 'backends' is not defined",
     "output_type": "error",
     "traceback": [
      "\u001b[0;31m---------------------------------------------------------------------------\u001b[0m",
      "\u001b[0;31mNameError\u001b[0m                                 Traceback (most recent call last)",
      "\u001b[1;32m/Users/olove/Programming/Python/OpenCV/VC - ULPGC/P4/VC_P4_deepface.ipynb Cell 4\u001b[0m line \u001b[0;36m3\n\u001b[1;32m     <a href='vscode-notebook-cell:/Users/olove/Programming/Python/OpenCV/VC%20-%20ULPGC/P4/VC_P4_deepface.ipynb#W3sZmlsZQ%3D%3D?line=24'>25</a>\u001b[0m ret, frame \u001b[39m=\u001b[39m cap\u001b[39m.\u001b[39mread()\n\u001b[1;32m     <a href='vscode-notebook-cell:/Users/olove/Programming/Python/OpenCV/VC%20-%20ULPGC/P4/VC_P4_deepface.ipynb#W3sZmlsZQ%3D%3D?line=27'>28</a>\u001b[0m \u001b[39m#Deepface detecta caras y se queda con primera\u001b[39;00m\n\u001b[1;32m     <a href='vscode-notebook-cell:/Users/olove/Programming/Python/OpenCV/VC%20-%20ULPGC/P4/VC_P4_deepface.ipynb#W3sZmlsZQ%3D%3D?line=28'>29</a>\u001b[0m face \u001b[39m=\u001b[39m DeepFace\u001b[39m.\u001b[39mdetectFace(img_path \u001b[39m=\u001b[39m frame, \n\u001b[1;32m     <a href='vscode-notebook-cell:/Users/olove/Programming/Python/OpenCV/VC%20-%20ULPGC/P4/VC_P4_deepface.ipynb#W3sZmlsZQ%3D%3D?line=29'>30</a>\u001b[0m     target_size \u001b[39m=\u001b[39m (\u001b[39m224\u001b[39m, \u001b[39m224\u001b[39m), \n\u001b[0;32m---> <a href='vscode-notebook-cell:/Users/olove/Programming/Python/OpenCV/VC%20-%20ULPGC/P4/VC_P4_deepface.ipynb#W3sZmlsZQ%3D%3D?line=30'>31</a>\u001b[0m     detector_backend \u001b[39m=\u001b[39m backends[\u001b[39m4\u001b[39m]\n\u001b[1;32m     <a href='vscode-notebook-cell:/Users/olove/Programming/Python/OpenCV/VC%20-%20ULPGC/P4/VC_P4_deepface.ipynb#W3sZmlsZQ%3D%3D?line=31'>32</a>\u001b[0m )\n\u001b[1;32m     <a href='vscode-notebook-cell:/Users/olove/Programming/Python/OpenCV/VC%20-%20ULPGC/P4/VC_P4_deepface.ipynb#W3sZmlsZQ%3D%3D?line=33'>34</a>\u001b[0m \u001b[39m#Detectar múltiples (https://sefiks.com/2021/04/27/deep-face-detection-with-retinaface-in-python/)\u001b[39;00m\n\u001b[1;32m     <a href='vscode-notebook-cell:/Users/olove/Programming/Python/OpenCV/VC%20-%20ULPGC/P4/VC_P4_deepface.ipynb#W3sZmlsZQ%3D%3D?line=34'>35</a>\u001b[0m \u001b[39m#Devuelve un dict\u001b[39;00m\n\u001b[1;32m     <a href='vscode-notebook-cell:/Users/olove/Programming/Python/OpenCV/VC%20-%20ULPGC/P4/VC_P4_deepface.ipynb#W3sZmlsZQ%3D%3D?line=35'>36</a>\u001b[0m \u001b[39m# faces = RetinaFace.detect_faces(frame);\u001b[39;00m\n\u001b[1;32m     <a href='vscode-notebook-cell:/Users/olove/Programming/Python/OpenCV/VC%20-%20ULPGC/P4/VC_P4_deepface.ipynb#W3sZmlsZQ%3D%3D?line=36'>37</a>\u001b[0m \u001b[39mprint\u001b[39m(face)\n",
      "\u001b[0;31mNameError\u001b[0m: name 'backends' is not defined"
     ]
    }
   ],
   "source": [
    "# Webcam connection\n",
    "cap = cv2.VideoCapture(0)\n",
    "# Check for other cameras\n",
    "if not cap.isOpened():\n",
    "    cap = cv2.VideoCapture(1)\n",
    "    if not cap.isOpened():\n",
    "        cap = cv2.VideoCapture(0)\n",
    "        if not cap.isOpened():\n",
    "            print('Camera error')\n",
    "            exit(0)\n",
    "        else:\n",
    "            print('Camera 0')\n",
    "    else:\n",
    "        print('Camera 1')\n",
    "else:\n",
    "    print('Camera 0')\n",
    "\n",
    "#Set camera resolution\n",
    "cap.set(3,640);\n",
    "cap.set(4,480);\n",
    "\n",
    "while True:\n",
    "    # Get frame\n",
    "    t = time.time()\n",
    "    ret, frame = cap.read()\n",
    "\n",
    "\n",
    "    #Deepface detecta caras y se queda con primera\n",
    "    face = DeepFace.detectFace(img_path = frame, \n",
    "        target_size = (224, 224), \n",
    "        detector_backend = backends[4]\n",
    "    )\n",
    "\n",
    "    #Detectar múltiples (https://sefiks.com/2021/04/27/deep-face-detection-with-retinaface-in-python/)\n",
    "    #Devuelve un dict\n",
    "    # faces = RetinaFace.detect_faces(frame);\n",
    "    print(face)\n",
    "    #Si hay detecciones\n",
    "    if len(faces) > 0:\n",
    "        #Dibuja contenedor y elementos faciales\n",
    "        for idx in range(1,len(faces)+1):\n",
    "            id = 'face_' + str(idx)\n",
    "            id = idx\n",
    "            #Muestra información de caras\n",
    "            print(faces[id])\n",
    "            #Accediendo a contenedor de la cara\n",
    "            facial_area = faces[id]['facial_area']\n",
    "            #Accediendo a datos de los elementos faciales\n",
    "            landmarks = faces[id]['landmarks']\n",
    "            #Debug\n",
    "            #print(facial_area)\n",
    "            #print(landmarks)\n",
    "            \n",
    "            #Contenedor\n",
    "            cv2.rectangle(frame, (facial_area[2], facial_area[3])\n",
    "            , (facial_area[0], facial_area[1]), (255, 255, 255), 1)\n",
    "\n",
    "            #Elementos faciales\n",
    "            cv2.circle(frame, (int(landmarks[\"left_eye\"][0]),int(landmarks[\"left_eye\"][1])), 3, (0, 0, 255), -1)\n",
    "            cv2.circle(frame, (int(landmarks[\"right_eye\"][0]),int(landmarks[\"right_eye\"][1])), 3, (0, 0, 255), -1)\n",
    "            cv2.circle(frame, (int(landmarks[\"nose\"][0]),int(landmarks[\"nose\"][1])), 3, (255, 0, 0), -1)\n",
    "            cv2.circle(frame, (int(landmarks[\"mouth_left\"][0]),int(landmarks[\"mouth_left\"][1])), 3, (0, 255, 0), -1)\n",
    "            cv2.circle(frame, (int(landmarks[\"mouth_right\"][0]),int(landmarks[\"mouth_right\"][1])), 3, (0, 255, 0), -1)\n",
    "     \n",
    "    #Muestra imagen\n",
    "    cv2.imshow('Cam', frame)\n",
    "    \n",
    "    #Esperar por tecla o seguir\n",
    "    tec = cv2.waitKey(40)\n",
    "    if tec & tec == 27:  # Esc\n",
    "        break\n",
    "    \n",
    "#Cerrar ventanas y cámara\n",
    "cap.release()\n",
    "cv2.destroyAllWindows()"
   ]
  }
 ],
 "metadata": {
  "kernelspec": {
   "display_name": "Python 3.9.0 ('deepface')",
   "language": "python",
   "name": "python3"
  },
  "language_info": {
   "codemirror_mode": {
    "name": "ipython",
    "version": 3
   },
   "file_extension": ".py",
   "mimetype": "text/x-python",
   "name": "python",
   "nbconvert_exporter": "python",
   "pygments_lexer": "ipython3",
   "version": "3.11.5"
  },
  "vscode": {
   "interpreter": {
    "hash": "12028effb1af0cd2244438ff9b17d06bb1d7695ec7a554a144e43ec4b8b79006"
   }
  }
 },
 "nbformat": 4,
 "nbformat_minor": 2
}
